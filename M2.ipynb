{
 "cells": [
  {
   "cell_type": "markdown",
   "metadata": {},
   "source": [
    "### M2: Process and Tooling"
   ]
  },
  {
   "cell_type": "markdown",
   "metadata": {},
   "source": [
    "#### 1.\tExperiment Tracking:\n",
    "* Use MLflow to track experiments for a machine learning project - Diabetes Dataset.\n",
    "* Record metrics, parameters, and results of at least three different model training runs."
   ]
  },
  {
   "cell_type": "code",
   "execution_count": 7,
   "metadata": {},
   "outputs": [
    {
     "name": "stderr",
     "output_type": "stream",
     "text": [
      "2025/01/25 16:49:57 INFO mlflow.tracking.fluent: Experiment with name 'diabetes_experiment' does not exist. Creating a new experiment.\n",
      "2025/01/25 16:50:03 WARNING mlflow.models.model: Model logged without a signature and input example. Please set `input_example` parameter when logging the model to auto infer the model signature.\n"
     ]
    },
    {
     "name": "stdout",
     "output_type": "stream",
     "text": [
      "Run with n_estimators=10, max_depth=3, mean_squared_error=2906.4925059558755\n"
     ]
    },
    {
     "name": "stderr",
     "output_type": "stream",
     "text": [
      "2025/01/25 16:50:09 WARNING mlflow.models.model: Model logged without a signature and input example. Please set `input_example` parameter when logging the model to auto infer the model signature.\n"
     ]
    },
    {
     "name": "stdout",
     "output_type": "stream",
     "text": [
      "Run with n_estimators=50, max_depth=5, mean_squared_error=2964.4844789896415\n"
     ]
    },
    {
     "name": "stderr",
     "output_type": "stream",
     "text": [
      "2025/01/25 16:50:16 WARNING mlflow.models.model: Model logged without a signature and input example. Please set `input_example` parameter when logging the model to auto infer the model signature.\n"
     ]
    },
    {
     "name": "stdout",
     "output_type": "stream",
     "text": [
      "Run with n_estimators=100, max_depth=7, mean_squared_error=2974.3046746678074\n"
     ]
    }
   ],
   "source": [
    "# Load dataset from CSV file stored above\n",
    "import mlflow\n",
    "import mlflow.sklearn\n",
    "from sklearn.ensemble import RandomForestRegressor\n",
    "from sklearn.model_selection import train_test_split\n",
    "from sklearn.metrics import mean_squared_error\n",
    "import pandas as pd\n",
    "\n",
    "# Set the tracking URI to a local directory\n",
    "mlflow.set_tracking_uri(\"./m2_logs\")\n",
    "\n",
    "# Create or set an experiment\n",
    "mlflow.set_experiment(\"diabetes_experiment\")\n",
    "\n",
    "# Load the versioned dataset\n",
    "df = pd.read_csv('dataset/diabetes_dataset_v0.csv')\n",
    "\n",
    "def train_model(n_estimators, max_depth):\n",
    "    # Split data\n",
    "    X = df.drop(columns=['target'])\n",
    "    y = df['target']\n",
    "    X_train, X_test, y_train, y_test = train_test_split(X, y, test_size=0.2, random_state=42)\n",
    "\n",
    "    # Train model\n",
    "    model = RandomForestRegressor(n_estimators=n_estimators, max_depth=max_depth)\n",
    "    model.fit(X_train, y_train)\n",
    "    predictions = model.predict(X_test)\n",
    "    mse = mean_squared_error(y_test, predictions)\n",
    "\n",
    "    # Log parameters, metrics, and model\n",
    "    mlflow.log_param(\"n_estimators\", n_estimators)\n",
    "    mlflow.log_param(\"max_depth\", max_depth)\n",
    "    mlflow.log_metric(\"mean_squared_error\", mse)\n",
    "    mlflow.sklearn.log_model(model, \"model\")\n",
    "\n",
    "    print(f\"Run with n_estimators={n_estimators}, max_depth={max_depth}, mean_squared_error={mse}\")\n",
    "\n",
    "# Run experiments\n",
    "with mlflow.start_run():\n",
    "    train_model(n_estimators=10, max_depth=3)\n",
    "\n",
    "with mlflow.start_run():\n",
    "    train_model(n_estimators=50, max_depth=5)\n",
    "\n",
    "with mlflow.start_run():\n",
    "    train_model(n_estimators=100, max_depth=7)\n"
   ]
  },
  {
   "cell_type": "code",
   "execution_count": null,
   "metadata": {},
   "outputs": [],
   "source": [
    "# Check results on mlflow UI\n",
    "mlflow ui --backend-store-uri ./m2_logs"
   ]
  },
  {
   "cell_type": "markdown",
   "metadata": {},
   "source": [
    "#### 2.\tData Versioning:\n",
    "* Use DVC (Data Version Control) to version control a dataset used in your project.\n",
    "* Show how to revert to a previous version of the dataset.\n"
   ]
  },
  {
   "cell_type": "code",
   "execution_count": null,
   "metadata": {},
   "outputs": [],
   "source": [
    "# Step 1: Initialize DVC\n",
    "dvc init\n",
    "git add .dvc .gitignore\n",
    "git commit -m \"Initialize DVC\""
   ]
  },
  {
   "cell_type": "code",
   "execution_count": null,
   "metadata": {},
   "outputs": [],
   "source": [
    "# Step 2: Save the initial version of the Diabetes dataset to a CSV file\n",
    "from sklearn.datasets import load_diabetes\n",
    "import pandas as pd\n",
    "\n",
    "# Load the Diabetes dataset\n",
    "data = load_diabetes()\n",
    "df = pd.DataFrame(data.data, columns=data.feature_names)\n",
    "df['target'] = data.target\n",
    "\n",
    "# Save to CSV file\n",
    "df.to_csv('../dataset/diabetes_dataset_v1.csv', index=False)\n"
   ]
  },
  {
   "cell_type": "code",
   "execution_count": null,
   "metadata": {},
   "outputs": [],
   "source": [
    "# Step 3: Add the first version of the dataset to DVC\n",
    "dvc add diabetes_dataset_v1.csv\n",
    "git add diabetes_dataset_v1.csv.dvc .gitignore\n",
    "git commit -m \"Add version 1 of diabetes dataset to DVC\""
   ]
  },
  {
   "cell_type": "code",
   "execution_count": null,
   "metadata": {},
   "outputs": [],
   "source": [
    "# Step 4: Modify the dataset to create a new version\n",
    "# Add a new feature (square of BMI)\n",
    "df['BMI_squared'] = df['bmi'] ** 2\n",
    "\n",
    "# Save to CSV file\n",
    "df.to_csv('../dataset/diabetes_dataset_v2.csv', index=False)"
   ]
  },
  {
   "cell_type": "code",
   "execution_count": null,
   "metadata": {},
   "outputs": [],
   "source": [
    "# Step 5: Add the second version of the dataset to DVC\n",
    "dvc add diabetes_dataset_v2.csv\n",
    "git add diabetes_dataset_v2.csv.dvc .gitignore\n",
    "git commit -m \"Add version 2 of diabetes dataset to DVC\""
   ]
  },
  {
   "cell_type": "code",
   "execution_count": null,
   "metadata": {},
   "outputs": [],
   "source": [
    "# Step 6: Revert to a Previous Version\n",
    "# List the commits to find the hash of the commit with the first version\n",
    "git log\n",
    "# Checkout the commit with the first version\n",
    "git checkout <commit_hash_of_version_1>\n",
    "# Revert the dataset to the version at the checked-out commit\n",
    "dvc checkout"
   ]
  }
 ],
 "metadata": {
  "kernelspec": {
   "display_name": "mlops",
   "language": "python",
   "name": "python3"
  },
  "language_info": {
   "codemirror_mode": {
    "name": "ipython",
    "version": 3
   },
   "file_extension": ".py",
   "mimetype": "text/x-python",
   "name": "python",
   "nbconvert_exporter": "python",
   "pygments_lexer": "ipython3",
   "version": "3.12.3"
  }
 },
 "nbformat": 4,
 "nbformat_minor": 2
}
